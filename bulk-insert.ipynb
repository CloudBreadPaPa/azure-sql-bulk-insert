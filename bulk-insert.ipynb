{
 "cells": [
  {
   "cell_type": "code",
   "execution_count": 63,
   "source": [
    "# load CSV file\n",
    "import os\n",
    "import pandas as pd\n",
    "df = pd.read_csv(\"data/train_10000.csv\")\n"
   ],
   "outputs": [],
   "metadata": {}
  },
  {
   "cell_type": "code",
   "execution_count": 3,
   "source": [
    "# review CSV data\n",
    "df.head()"
   ],
   "outputs": [
    {
     "output_type": "execute_result",
     "data": {
      "text/html": [
       "<div>\n",
       "<style scoped>\n",
       "    .dataframe tbody tr th:only-of-type {\n",
       "        vertical-align: middle;\n",
       "    }\n",
       "\n",
       "    .dataframe tbody tr th {\n",
       "        vertical-align: top;\n",
       "    }\n",
       "\n",
       "    .dataframe thead th {\n",
       "        text-align: right;\n",
       "    }\n",
       "</style>\n",
       "<table border=\"1\" class=\"dataframe\">\n",
       "  <thead>\n",
       "    <tr style=\"text-align: right;\">\n",
       "      <th></th>\n",
       "      <th>MachineIdentifier</th>\n",
       "      <th>ProductName</th>\n",
       "      <th>EngineVersion</th>\n",
       "      <th>AppVersion</th>\n",
       "      <th>AvSigVersion</th>\n",
       "      <th>IsBeta</th>\n",
       "      <th>RtpStateBitfield</th>\n",
       "      <th>IsSxsPassiveMode</th>\n",
       "      <th>DefaultBrowsersIdentifier</th>\n",
       "      <th>AVProductStatesIdentifier</th>\n",
       "      <th>...</th>\n",
       "      <th>Census_FirmwareVersionIdentifier</th>\n",
       "      <th>Census_IsSecureBootEnabled</th>\n",
       "      <th>Census_IsWIMBootEnabled</th>\n",
       "      <th>Census_IsVirtualDevice</th>\n",
       "      <th>Census_IsTouchEnabled</th>\n",
       "      <th>Census_IsPenCapable</th>\n",
       "      <th>Census_IsAlwaysOnAlwaysConnectedCapable</th>\n",
       "      <th>Wdft_IsGamer</th>\n",
       "      <th>Wdft_RegionIdentifier</th>\n",
       "      <th>HasDetections</th>\n",
       "    </tr>\n",
       "  </thead>\n",
       "  <tbody>\n",
       "    <tr>\n",
       "      <th>0</th>\n",
       "      <td>0000028988387b115f69f31a3bf04f09</td>\n",
       "      <td>win8defender</td>\n",
       "      <td>1.1.15100.1</td>\n",
       "      <td>4.18.1807.18075</td>\n",
       "      <td>1.273.1735.0</td>\n",
       "      <td>0</td>\n",
       "      <td>7</td>\n",
       "      <td>0</td>\n",
       "      <td>NaN</td>\n",
       "      <td>53447</td>\n",
       "      <td>...</td>\n",
       "      <td>36144.0</td>\n",
       "      <td>0.0</td>\n",
       "      <td>NaN</td>\n",
       "      <td>0.0</td>\n",
       "      <td>0.0</td>\n",
       "      <td>0.0</td>\n",
       "      <td>0.0</td>\n",
       "      <td>0.0</td>\n",
       "      <td>10.0</td>\n",
       "      <td>0.0</td>\n",
       "    </tr>\n",
       "    <tr>\n",
       "      <th>1</th>\n",
       "      <td>000007535c3f730efa9ea0b7ef1bd645</td>\n",
       "      <td>win8defender</td>\n",
       "      <td>1.1.14600.4</td>\n",
       "      <td>4.13.17134.1</td>\n",
       "      <td>1.263.48.0</td>\n",
       "      <td>0</td>\n",
       "      <td>7</td>\n",
       "      <td>0</td>\n",
       "      <td>NaN</td>\n",
       "      <td>53447</td>\n",
       "      <td>...</td>\n",
       "      <td>57858.0</td>\n",
       "      <td>0.0</td>\n",
       "      <td>NaN</td>\n",
       "      <td>0.0</td>\n",
       "      <td>0.0</td>\n",
       "      <td>0.0</td>\n",
       "      <td>0.0</td>\n",
       "      <td>0.0</td>\n",
       "      <td>8.0</td>\n",
       "      <td>0.0</td>\n",
       "    </tr>\n",
       "    <tr>\n",
       "      <th>2</th>\n",
       "      <td>000007905a28d863f6d0d597892cd692</td>\n",
       "      <td>win8defender</td>\n",
       "      <td>1.1.15100.1</td>\n",
       "      <td>4.18.1807.18075</td>\n",
       "      <td>1.273.1341.0</td>\n",
       "      <td>0</td>\n",
       "      <td>7</td>\n",
       "      <td>0</td>\n",
       "      <td>NaN</td>\n",
       "      <td>53447</td>\n",
       "      <td>...</td>\n",
       "      <td>52682.0</td>\n",
       "      <td>0.0</td>\n",
       "      <td>NaN</td>\n",
       "      <td>0.0</td>\n",
       "      <td>0.0</td>\n",
       "      <td>0.0</td>\n",
       "      <td>0.0</td>\n",
       "      <td>0.0</td>\n",
       "      <td>3.0</td>\n",
       "      <td>0.0</td>\n",
       "    </tr>\n",
       "    <tr>\n",
       "      <th>3</th>\n",
       "      <td>00000b11598a75ea8ba1beea8459149f</td>\n",
       "      <td>win8defender</td>\n",
       "      <td>1.1.15100.1</td>\n",
       "      <td>4.18.1807.18075</td>\n",
       "      <td>1.273.1527.0</td>\n",
       "      <td>0</td>\n",
       "      <td>7</td>\n",
       "      <td>0</td>\n",
       "      <td>NaN</td>\n",
       "      <td>53447</td>\n",
       "      <td>...</td>\n",
       "      <td>20050.0</td>\n",
       "      <td>0.0</td>\n",
       "      <td>NaN</td>\n",
       "      <td>0.0</td>\n",
       "      <td>0.0</td>\n",
       "      <td>0.0</td>\n",
       "      <td>0.0</td>\n",
       "      <td>0.0</td>\n",
       "      <td>3.0</td>\n",
       "      <td>1.0</td>\n",
       "    </tr>\n",
       "    <tr>\n",
       "      <th>4</th>\n",
       "      <td>000014a5f00daa18e76b81417eeb99fc</td>\n",
       "      <td>win8defender</td>\n",
       "      <td>1.1.15100.1</td>\n",
       "      <td>4.18.1807.18075</td>\n",
       "      <td>1.273.1379.0</td>\n",
       "      <td>0</td>\n",
       "      <td>7</td>\n",
       "      <td>0</td>\n",
       "      <td>NaN</td>\n",
       "      <td>53447</td>\n",
       "      <td>...</td>\n",
       "      <td>19844.0</td>\n",
       "      <td>0.0</td>\n",
       "      <td>0.0</td>\n",
       "      <td>0.0</td>\n",
       "      <td>0.0</td>\n",
       "      <td>0.0</td>\n",
       "      <td>0.0</td>\n",
       "      <td>0.0</td>\n",
       "      <td>1.0</td>\n",
       "      <td>1.0</td>\n",
       "    </tr>\n",
       "  </tbody>\n",
       "</table>\n",
       "<p>5 rows × 83 columns</p>\n",
       "</div>"
      ],
      "text/plain": [
       "                  MachineIdentifier   ProductName EngineVersion  \\\n",
       "0  0000028988387b115f69f31a3bf04f09  win8defender   1.1.15100.1   \n",
       "1  000007535c3f730efa9ea0b7ef1bd645  win8defender   1.1.14600.4   \n",
       "2  000007905a28d863f6d0d597892cd692  win8defender   1.1.15100.1   \n",
       "3  00000b11598a75ea8ba1beea8459149f  win8defender   1.1.15100.1   \n",
       "4  000014a5f00daa18e76b81417eeb99fc  win8defender   1.1.15100.1   \n",
       "\n",
       "        AppVersion  AvSigVersion  IsBeta  RtpStateBitfield  IsSxsPassiveMode  \\\n",
       "0  4.18.1807.18075  1.273.1735.0       0                 7                 0   \n",
       "1     4.13.17134.1    1.263.48.0       0                 7                 0   \n",
       "2  4.18.1807.18075  1.273.1341.0       0                 7                 0   \n",
       "3  4.18.1807.18075  1.273.1527.0       0                 7                 0   \n",
       "4  4.18.1807.18075  1.273.1379.0       0                 7                 0   \n",
       "\n",
       "   DefaultBrowsersIdentifier  AVProductStatesIdentifier  ...  \\\n",
       "0                        NaN                      53447  ...   \n",
       "1                        NaN                      53447  ...   \n",
       "2                        NaN                      53447  ...   \n",
       "3                        NaN                      53447  ...   \n",
       "4                        NaN                      53447  ...   \n",
       "\n",
       "   Census_FirmwareVersionIdentifier  Census_IsSecureBootEnabled  \\\n",
       "0                           36144.0                         0.0   \n",
       "1                           57858.0                         0.0   \n",
       "2                           52682.0                         0.0   \n",
       "3                           20050.0                         0.0   \n",
       "4                           19844.0                         0.0   \n",
       "\n",
       "   Census_IsWIMBootEnabled  Census_IsVirtualDevice  Census_IsTouchEnabled  \\\n",
       "0                      NaN                     0.0                    0.0   \n",
       "1                      NaN                     0.0                    0.0   \n",
       "2                      NaN                     0.0                    0.0   \n",
       "3                      NaN                     0.0                    0.0   \n",
       "4                      0.0                     0.0                    0.0   \n",
       "\n",
       "   Census_IsPenCapable  Census_IsAlwaysOnAlwaysConnectedCapable  Wdft_IsGamer  \\\n",
       "0                  0.0                                      0.0           0.0   \n",
       "1                  0.0                                      0.0           0.0   \n",
       "2                  0.0                                      0.0           0.0   \n",
       "3                  0.0                                      0.0           0.0   \n",
       "4                  0.0                                      0.0           0.0   \n",
       "\n",
       "  Wdft_RegionIdentifier HasDetections  \n",
       "0                  10.0           0.0  \n",
       "1                   8.0           0.0  \n",
       "2                   3.0           0.0  \n",
       "3                   3.0           1.0  \n",
       "4                   1.0           1.0  \n",
       "\n",
       "[5 rows x 83 columns]"
      ]
     },
     "metadata": {},
     "execution_count": 3
    }
   ],
   "metadata": {}
  },
  {
   "cell_type": "code",
   "execution_count": 4,
   "source": [
    "df.describe"
   ],
   "outputs": [
    {
     "output_type": "execute_result",
     "data": {
      "text/plain": [
       "<bound method NDFrame.describe of                    MachineIdentifier   ProductName EngineVersion  \\\n",
       "0   0000028988387b115f69f31a3bf04f09  win8defender   1.1.15100.1   \n",
       "1   000007535c3f730efa9ea0b7ef1bd645  win8defender   1.1.14600.4   \n",
       "2   000007905a28d863f6d0d597892cd692  win8defender   1.1.15100.1   \n",
       "3   00000b11598a75ea8ba1beea8459149f  win8defender   1.1.15100.1   \n",
       "4   000014a5f00daa18e76b81417eeb99fc  win8defender   1.1.15100.1   \n",
       "5   000016191b897145d069102325cab760  win8defender   1.1.15100.1   \n",
       "6   0000161e8abf8d8b89c5ab8787fd712b  win8defender   1.1.15100.1   \n",
       "7   000019515bc8f95851aff6de873405e8  win8defender   1.1.15100.1   \n",
       "8   00001a027a0ab970c408182df8484fce  win8defender   1.1.15200.1   \n",
       "9   00001a18d69bb60bda9779408dcf02ac  win8defender   1.1.15100.1   \n",
       "10  00001b3b3cf8c8c079a272ce51031753  win8defender   1.1.15100.1   \n",
       "11  00001b924fcc6922321cfadbafd8a91a  win8defender   1.1.15100.1   \n",
       "12  00001f26e9e5775277d6231fc6ac9e70  win8defender   1.1.15100.1   \n",
       "13  000024872c81cf03fa862aa8f99e0984  win8defender   1.1.15200.1   \n",
       "14  0000258d2b847c7549150cfec6464473  win8defender   1.1.15100.1   \n",
       "15  000027c68b89acb49d4017763b043449  win8defender   1.1.15200.1   \n",
       "16  000028150912f45b1dc667164de489ef           mse   1.1.15200.1   \n",
       "\n",
       "         AppVersion  AvSigVersion  IsBeta  RtpStateBitfield  IsSxsPassiveMode  \\\n",
       "0   4.18.1807.18075  1.273.1735.0       0                 7                 0   \n",
       "1      4.13.17134.1    1.263.48.0       0                 7                 0   \n",
       "2   4.18.1807.18075  1.273.1341.0       0                 7                 0   \n",
       "3   4.18.1807.18075  1.273.1527.0       0                 7                 0   \n",
       "4   4.18.1807.18075  1.273.1379.0       0                 7                 0   \n",
       "5   4.18.1807.18075  1.273.1094.0       0                 7                 0   \n",
       "6   4.18.1807.18075   1.273.845.0       0                 7                 0   \n",
       "7   4.18.1807.18075  1.273.1393.0       0                 7                 0   \n",
       "8   4.18.1807.18075   1.275.988.0       0                 7                 0   \n",
       "9   4.18.1807.18075   1.273.973.0       0                 7                 0   \n",
       "10  4.18.1807.18075   1.273.869.0       0                 7                 0   \n",
       "11  4.18.1807.18075  1.273.1826.0       0                 7                 0   \n",
       "12  4.18.1807.18075  1.273.1372.0       0                 7                 0   \n",
       "13  4.18.1807.18075   1.275.895.0       0                 7                 0   \n",
       "14  4.18.1807.18075   1.273.925.0       0                 7                 0   \n",
       "15  4.18.1807.18075   1.275.130.0       0                 7                 0   \n",
       "16        4.9.218.0   1.275.300.0       0                 7                 0   \n",
       "\n",
       "    DefaultBrowsersIdentifier  AVProductStatesIdentifier  ...  \\\n",
       "0                         NaN                      53447  ...   \n",
       "1                         NaN                      53447  ...   \n",
       "2                         NaN                      53447  ...   \n",
       "3                         NaN                      53447  ...   \n",
       "4                         NaN                      53447  ...   \n",
       "5                         NaN                      53447  ...   \n",
       "6                         NaN                      43927  ...   \n",
       "7                         NaN                      53447  ...   \n",
       "8                         NaN                      53447  ...   \n",
       "9                         NaN                      46413  ...   \n",
       "10                        NaN                      53447  ...   \n",
       "11                        NaN                      47238  ...   \n",
       "12                        NaN                      36429  ...   \n",
       "13                        NaN                      53447  ...   \n",
       "14                        NaN                       7945  ...   \n",
       "15                        NaN                      47238  ...   \n",
       "16                        NaN                      29199  ...   \n",
       "\n",
       "    Census_FirmwareVersionIdentifier  Census_IsSecureBootEnabled  \\\n",
       "0                            36144.0                         0.0   \n",
       "1                            57858.0                         0.0   \n",
       "2                            52682.0                         0.0   \n",
       "3                            20050.0                         0.0   \n",
       "4                            19844.0                         0.0   \n",
       "5                            51039.0                         0.0   \n",
       "6                            63175.0                         1.0   \n",
       "7                            63122.0                         0.0   \n",
       "8                            15510.0                         0.0   \n",
       "9                            63555.0                         1.0   \n",
       "10                           50922.0                         0.0   \n",
       "11                           15816.0                         1.0   \n",
       "12                           51601.0                         1.0   \n",
       "13                           11081.0                         0.0   \n",
       "14                           38347.0                         0.0   \n",
       "15                           19951.0                         1.0   \n",
       "16                               NaN                         NaN   \n",
       "\n",
       "    Census_IsWIMBootEnabled  Census_IsVirtualDevice  Census_IsTouchEnabled  \\\n",
       "0                       NaN                     0.0                    0.0   \n",
       "1                       NaN                     0.0                    0.0   \n",
       "2                       NaN                     0.0                    0.0   \n",
       "3                       NaN                     0.0                    0.0   \n",
       "4                       0.0                     0.0                    0.0   \n",
       "5                       0.0                     0.0                    0.0   \n",
       "6                       NaN                     0.0                    0.0   \n",
       "7                       0.0                     0.0                    0.0   \n",
       "8                       0.0                     0.0                    0.0   \n",
       "9                       0.0                     0.0                    0.0   \n",
       "10                      NaN                     0.0                    1.0   \n",
       "11                      NaN                     0.0                    0.0   \n",
       "12                      NaN                     0.0                    0.0   \n",
       "13                      NaN                     0.0                    0.0   \n",
       "14                      NaN                     0.0                    0.0   \n",
       "15                      0.0                     0.0                    0.0   \n",
       "16                      NaN                     NaN                    NaN   \n",
       "\n",
       "    Census_IsPenCapable  Census_IsAlwaysOnAlwaysConnectedCapable  \\\n",
       "0                   0.0                                      0.0   \n",
       "1                   0.0                                      0.0   \n",
       "2                   0.0                                      0.0   \n",
       "3                   0.0                                      0.0   \n",
       "4                   0.0                                      0.0   \n",
       "5                   0.0                                      0.0   \n",
       "6                   0.0                                      0.0   \n",
       "7                   0.0                                      0.0   \n",
       "8                   0.0                                      0.0   \n",
       "9                   0.0                                      0.0   \n",
       "10                  1.0                                      1.0   \n",
       "11                  0.0                                      0.0   \n",
       "12                  0.0                                      0.0   \n",
       "13                  0.0                                      0.0   \n",
       "14                  0.0                                      0.0   \n",
       "15                  0.0                                      0.0   \n",
       "16                  NaN                                      NaN   \n",
       "\n",
       "    Wdft_IsGamer Wdft_RegionIdentifier HasDetections  \n",
       "0            0.0                  10.0           0.0  \n",
       "1            0.0                   8.0           0.0  \n",
       "2            0.0                   3.0           0.0  \n",
       "3            0.0                   3.0           1.0  \n",
       "4            0.0                   1.0           1.0  \n",
       "5            0.0                  15.0           1.0  \n",
       "6            0.0                  10.0           1.0  \n",
       "7            0.0                  15.0           0.0  \n",
       "8            0.0                  15.0           0.0  \n",
       "9            1.0                   8.0           1.0  \n",
       "10           0.0                   1.0           0.0  \n",
       "11           0.0                  15.0           1.0  \n",
       "12           1.0                   3.0           0.0  \n",
       "13           0.0                   3.0           0.0  \n",
       "14           1.0                   3.0           1.0  \n",
       "15           0.0                   1.0           1.0  \n",
       "16           NaN                   NaN           NaN  \n",
       "\n",
       "[17 rows x 83 columns]>"
      ]
     },
     "metadata": {},
     "execution_count": 4
    }
   ],
   "metadata": {}
  },
  {
   "cell_type": "code",
   "execution_count": null,
   "source": [],
   "outputs": [],
   "metadata": {}
  },
  {
   "cell_type": "markdown",
   "source": [
    "# upload to blob"
   ],
   "metadata": {}
  },
  {
   "cell_type": "code",
   "execution_count": 108,
   "source": [
    "# pip install azure-storage-blob\n",
    "# pip install python-dotenv\n",
    "from dotenv import load_dotenv\n",
    "\n",
    "%load_ext dotenv\n",
    "%dotenv\n",
    "\n",
    "connect_str = os.environ['AZURE_STORAGE_CONNECTION_STRING']\n"
   ],
   "outputs": [
    {
     "output_type": "stream",
     "name": "stdout",
     "text": [
      "The dotenv extension is already loaded. To reload it, use:\n",
      "  %reload_ext dotenv\n"
     ]
    }
   ],
   "metadata": {}
  },
  {
   "cell_type": "code",
   "execution_count": 21,
   "source": [
    "from azure.storage.blob import BlobServiceClient, BlobClient, ContainerClient\n",
    "\n",
    "blob_service_client = BlobServiceClient.from_connection_string(connect_str)\n",
    "container_name = \"bulk-insert\"\n",
    "container_client = blob_service_client.create_container(container_name)"
   ],
   "outputs": [],
   "metadata": {}
  },
  {
   "cell_type": "code",
   "execution_count": 82,
   "source": [
    "local_path = \"./data\"\n",
    "csv_file_name = \"train_10000.csv\"\n",
    "# csv_file_name = \"train_1000000.csv\"\n",
    "# csv_file_name = \"train.csv\"\n",
    "upload_file_path = os.path.join(local_path, csv_file_name)\n"
   ],
   "outputs": [],
   "metadata": {}
  },
  {
   "cell_type": "code",
   "execution_count": 23,
   "source": [
    "blob_client = blob_service_client.get_blob_client(container=container_name, blob=csv_file_name)\n",
    "\n",
    "# Upload the created file\n",
    "with open(upload_file_path, \"rb\") as data:\n",
    "    blob_client.upload_blob(data)"
   ],
   "outputs": [],
   "metadata": {}
  },
  {
   "cell_type": "code",
   "execution_count": 72,
   "source": [
    "# List the blobs in the container\n",
    "blob_list = container_client.list_blobs()\n",
    "for blob in blob_list:\n",
    "    print(\"\\t\" + blob.name)"
   ],
   "outputs": [
    {
     "output_type": "stream",
     "name": "stdout",
     "text": [
      "\ttrain.csv\n",
      "\ttrain_10000.csv\n",
      "\ttrain_1000000.csv\n"
     ]
    }
   ],
   "metadata": {}
  },
  {
   "cell_type": "code",
   "execution_count": null,
   "source": [],
   "outputs": [],
   "metadata": {}
  },
  {
   "cell_type": "markdown",
   "source": [
    "# get SAS token"
   ],
   "metadata": {}
  },
  {
   "cell_type": "code",
   "execution_count": 97,
   "source": [
    "import logging\n",
    "from datetime import datetime, timedelta\n",
    "from azure.storage.blob import generate_blob_sas, BlobSasPermissions\n",
    "\n",
    "AZURE_ACC_NAME = os.environ['AZURE_ACC_NAME']\n",
    "AZURE_PRIMARY_KEY = os.environ['AZURE_PRIMARY_KEY']"
   ],
   "outputs": [],
   "metadata": {}
  },
  {
   "cell_type": "code",
   "execution_count": 115,
   "source": [
    "def generate_sas_token(file_name):\n",
    "    sas = generate_blob_sas(account_name=AZURE_ACC_NAME,\n",
    "                            account_key=AZURE_PRIMARY_KEY,\n",
    "                            container_name=container_name,\n",
    "                            blob_name=file_name,\n",
    "                            permission=BlobSasPermissions(read=True),\n",
    "                            expiry=datetime.utcnow() + timedelta(hours=1))  # 2 hours expire for test\n",
    "\n",
    "    sas_url ='https://'+AZURE_ACC_NAME+'.blob.core.windows.net/'+container_name+'/'+file_name+'?'+sas\n",
    "    secret = sas\n",
    "    return sas_url, secret"
   ],
   "outputs": [],
   "metadata": {}
  },
  {
   "cell_type": "code",
   "execution_count": 116,
   "source": [
    "sas_url, secret = generate_sas_token(csv_file_name)"
   ],
   "outputs": [],
   "metadata": {}
  },
  {
   "cell_type": "code",
   "execution_count": null,
   "source": [],
   "outputs": [],
   "metadata": {}
  },
  {
   "cell_type": "markdown",
   "source": [
    "# bulk insert to azure sql database"
   ],
   "metadata": {}
  },
  {
   "cell_type": "markdown",
   "source": [
    "## create table sql statement\n",
    "```\n",
    "create table malware(\n",
    "MachineIdentifier varchar(256),\n",
    "ProductName varchar(256),\n",
    "EngineVersion varchar(256),\n",
    "AppVersion varchar(256),\n",
    "AvSigVersion varchar(256),\n",
    "IsBeta int,\n",
    "RtpStateBitfield float(24),\n",
    "IsSxsPassiveMode int,\n",
    "DefaultBrowsersIdentifier float(24),\n",
    "AVProductStatesIdentifier float(24),\n",
    "AVProductsInstalled float(24),\n",
    "AVProductsEnabled float(24),\n",
    "HasTpm int,\n",
    "CountryIdentifier int,\n",
    "CityIdentifier float(24),\n",
    "OrganizationIdentifier float(24),\n",
    "GeoNameIdentifier float(24),\n",
    "LocaleEnglishNameIdentifier int,\n",
    "Platform varchar(256),\n",
    "Processor varchar(256),\n",
    "OsVer varchar(256),\n",
    "OsBuild int,\n",
    "OsSuite int,\n",
    "OsPlatformSubRelease varchar(256),\n",
    "OsBuildLab varchar(256),\n",
    "SkuEdition varchar(256),\n",
    "IsProtected float(24),\n",
    "AutoSampleOptIn int,\n",
    "PuaMode varchar(256),\n",
    "SMode float(24),\n",
    "IeVerIdentifier float(24),\n",
    "SmartScreen varchar(256),\n",
    "Firewall float(24),\n",
    "UacLuaenable float(24),\n",
    "Census_MDC2FormFactor varchar(256),\n",
    "Census_DeviceFamily varchar(256),\n",
    "Census_OEMNameIdentifier float(24),\n",
    "Census_OEMModelIdentifier float(24),\n",
    "Census_ProcessorCoreCount float(24),\n",
    "Census_ProcessorManufacturerIdentifier float(24),\n",
    "Census_ProcessorModelIdentifier float(24),\n",
    "Census_ProcessorClass varchar(256),\n",
    "Census_PrimaryDiskTotalCapacity float(24),\n",
    "Census_PrimaryDiskTypeName varchar(256),\n",
    "Census_SystemVolumeTotalCapacity float(24),\n",
    "Census_HasOpticalDiskDrive int,\n",
    "Census_TotalPhysicalRAM float(24),\n",
    "Census_ChassisTypeName varchar(256),\n",
    "Census_InternalPrimaryDiagonalDisplaySizeInInches float(24),\n",
    "Census_InternalPrimaryDisplayResolutionHorizontal float(24),\n",
    "Census_InternalPrimaryDisplayResolutionVertical float(24),\n",
    "Census_PowerPlatformRoleName varchar(256),\n",
    "Census_InternalBatteryType varchar(256),\n",
    "Census_InternalBatteryNumberOfCharges float(24),\n",
    "Census_OSVersion varchar(256),\n",
    "Census_OSArchitecture varchar(256),\n",
    "Census_OSBranch varchar(256),\n",
    "Census_OSBuildNumber int,\n",
    "Census_OSBuildRevision bigint,\n",
    "Census_OSEdition varchar(256),\n",
    "Census_OSSkuName varchar(256),\n",
    "Census_OSInstallTypeName varchar(256),\n",
    "Census_OSInstallLanguageIdentifier float(24),\n",
    "Census_OSUILocaleIdentifier int,\n",
    "Census_OSWUAutoUpdateOptionsName varchar(256),\n",
    "Census_IsPortableOperatingSystem int,\n",
    "Census_GenuineStateName varchar(256),\n",
    "Census_ActivationChannel varchar(256),\n",
    "Census_IsFlightingInternal float(24),\n",
    "Census_IsFlightsDisabled float(24),\n",
    "Census_FlightRing varchar(256),\n",
    "Census_ThresholdOptIn float(24),\n",
    "Census_FirmwareManufacturerIdentifier float(24),\n",
    "Census_FirmwareVersionIdentifier float(24),\n",
    "Census_IsSecureBootEnabled int,\n",
    "Census_IsWIMBootEnabled float(24),\n",
    "Census_IsVirtualDevice float(24),\n",
    "Census_IsTouchEnabled int,\n",
    "Census_IsPenCapable int,\n",
    "Census_IsAlwaysOnAlwaysConnectedCapable float(24),\n",
    "Wdft_IsGamer float(24),\n",
    "Wdft_RegionIdentifier float(24),\n",
    "HasDetections int\n",
    ")\n",
    "```"
   ],
   "metadata": {}
  },
  {
   "cell_type": "code",
   "execution_count": 117,
   "source": [
    "# install pyodbc in Ubuntu : https://docs.microsoft.com/en-us/sql/connect/python/pyodbc/step-1-configure-development-environment-for-pyodbc-python-development?view=sql-server-ver15#linux\n",
    "# pip install pyodbc\n",
    "import pyodbc\n",
    "\n",
    "server = os.environ['SQLSERVER']\n",
    "database = os.environ['DATABASE']\n",
    "username = os.environ['USERNAME']\n",
    "password = os.environ['PASSWORD']\n",
    "driver = '{ODBC Driver 17 for SQL Server}'\n",
    "db_con_str = 'DRIVER='+driver+';SERVER=tcp:'+server+';PORT=1433;DATABASE='+database+';UID='+username+';PWD='+ password\n",
    "\n",
    "with pyodbc.connect(db_con_str) as conn:\n",
    "    with conn.cursor() as cursor:\n",
    "        cursor.execute(\"SELECT TOP 3 name, collation_name FROM sys.databases\") # test run\n",
    "        row = cursor.fetchone()\n",
    "        while row:\n",
    "            print (str(row[0]) + \" \" + str(row[1]))\n",
    "            row = cursor.fetchone()"
   ],
   "outputs": [
    {
     "output_type": "stream",
     "name": "stdout",
     "text": [
      "master SQL_Latin1_General_CP1_CI_AS\n",
      "malwaredb SQL_Latin1_General_CP1_CI_AS\n"
     ]
    }
   ],
   "metadata": {}
  },
  {
   "cell_type": "code",
   "execution_count": 118,
   "source": [
    "# https://docs.microsoft.com/en-us/sql/relational-databases/import-export/examples-of-bulk-access-to-data-in-azure-blob-storage?view=sql-server-ver15\n",
    "\n",
    "sec_cred = \"scred_bulk_ins\"\n",
    "query = \"CREATE DATABASE SCOPED CREDENTIAL \" + sec_cred + \" WITH IDENTITY = 'SHARED ACCESS SIGNATURE', SECRET = '\" + secret + \"';\"\n",
    "print(query)\n",
    "\n",
    "# set \"SCOPED CREDENTIAL\"\n",
    "with pyodbc.connect(db_con_str) as conn:\n",
    "    with conn.cursor() as cursor:\n",
    "        cursor.execute(query)"
   ],
   "outputs": [
    {
     "output_type": "stream",
     "name": "stdout",
     "text": [
      "CREATE DATABASE SCOPED CREDENTIAL scred_bulk_ins WITH IDENTITY = 'SHARED ACCESS SIGNATURE', SECRET = 'se=2021-09-27T10%3A10%3A56Z&sp=rt&sv=2020-10-02&sr=b&sig=0btqr6SEBDqEi98Mk5fzYLs8BHDCHiqDKYYUVZXbA4k%3D';\n"
     ]
    }
   ],
   "metadata": {}
  },
  {
   "cell_type": "markdown",
   "source": [
    "## error issue about azure sql database master key\n",
    "```\n",
    "ProgrammingError: ('42000', '[42000] [Microsoft][ODBC Driver 17 for SQL Server][SQL Server]Please create a master key in the database or open the master key in the session before performing this operation. (15581) (SQLExecDirectW)')\n",
    "\n",
    "\n",
    "https://docs.microsoft.com/en-us/sql/relational-databases/security/encryption/create-a-database-master-key?view=sql-server-ver15\n",
    "CREATE MASTER KEY ENCRYPTION BY PASSWORD = 'YOUR-MASTER-KEY';\n",
    "```"
   ],
   "metadata": {}
  },
  {
   "cell_type": "code",
   "execution_count": 119,
   "source": [
    "ext_ds = \"malware_ds\"\n",
    "query = \"CREATE EXTERNAL DATA SOURCE \" + ext_ds + \" WITH (TYPE = BLOB_STORAGE, LOCATION = 'https://\" + AZURE_ACC_NAME + \".blob.core.windows.net', CREDENTIAL = \" + sec_cred + \");\"\n",
    "print(query)\n",
    "\n",
    "# set \"EXTERNAL DATA SOURCE\"\n",
    "with pyodbc.connect(db_con_str) as conn:\n",
    "    with conn.cursor() as cursor:\n",
    "        cursor.execute(query)\n"
   ],
   "outputs": [
    {
     "output_type": "stream",
     "name": "stdout",
     "text": [
      "CREATE EXTERNAL DATA SOURCE malware_ds WITH (TYPE = BLOB_STORAGE, LOCATION = 'https://dwstorstest.blob.core.windows.net', CREDENTIAL = scred_bulk_ins);\n"
     ]
    }
   ],
   "metadata": {}
  },
  {
   "cell_type": "code",
   "execution_count": 87,
   "source": [
    "sql_table_name = \"malware\"\n",
    "query = \"BULK INSERT \" + sql_table_name + \" FROM '\" + container_name + \"/\" + csv_file_name + \"' WITH (DATA_SOURCE = '\" + ext_ds + \"', DATAFILETYPE = 'char', FIELDTERMINATOR = ',', ROWTERMINATOR = '0x0a', TABLOCK, CODEPAGE = 'UTF-8', FIRSTROW=2);\"\n",
    "print(query)\n",
    "\n",
    "# run \"BULK INSERT\"\n",
    "with pyodbc.connect(db_con_str) as conn:\n",
    "    with conn.cursor() as cursor:\n",
    "        cursor.execute(query)"
   ],
   "outputs": [
    {
     "output_type": "stream",
     "name": "stdout",
     "text": [
      "BULK INSERT malware FROM 'bulk-insert/train.csv' WITH (DATA_SOURCE = 'malware_ds', DATAFILETYPE = 'char', FIELDTERMINATOR = ',', ROWTERMINATOR = '0x0a', TABLOCK, CODEPAGE = 'UTF-8', FIRSTROW=2);\n"
     ]
    }
   ],
   "metadata": {}
  },
  {
   "cell_type": "code",
   "execution_count": 1,
   "source": [
    "# fetch dataset from ADX\n",
    "# pip install azure-kusto-data\n",
    "\n",
    "from azure.kusto.data import KustoClient, KustoConnectionStringBuilder\n",
    "from azure.kusto.data.exceptions import KustoServiceError\n",
    "from azure.kusto.data.helpers import dataframe_from_result_table\n",
    "import pandas as pd\n",
    "\n",
    "AAD_TENANT_ID = \"<TenantId>\"\n",
    "KUSTO_CLUSTER = \"https://help.kusto.windows.net/\"\n",
    "KUSTO_DATABASE = \"Samples\""
   ],
   "outputs": [],
   "metadata": {}
  },
  {
   "cell_type": "code",
   "execution_count": null,
   "source": [
    "KCSB = KustoConnectionStringBuilder.with_aad_device_authentication(KUSTO_CLUSTER)\n",
    "KCSB.authority_id = AAD_TENANT_ID"
   ],
   "outputs": [],
   "metadata": {}
  },
  {
   "cell_type": "code",
   "execution_count": null,
   "source": [
    "KUSTO_CLIENT = KustoClient(KCSB)\n",
    "KUSTO_QUERY = \"StormEvents | sort by StartTime desc | take 10\"\n",
    "\n",
    "RESPONSE = KUSTO_CLIENT.execute(KUSTO_DATABASE, KUSTO_QUERY)"
   ],
   "outputs": [],
   "metadata": {}
  },
  {
   "cell_type": "code",
   "execution_count": null,
   "source": [
    "# convert to data frame or native test\n",
    "df = dataframe_from_result_table(RESPONSE.primary_results[0])\n",
    "df"
   ],
   "outputs": [],
   "metadata": {}
  },
  {
   "cell_type": "code",
   "execution_count": null,
   "source": [
    "# dataframe to CSV\n",
    "df.to_csv(r'Path where you want to store the exported CSV file\\File Name.csv', index = False)"
   ],
   "outputs": [],
   "metadata": {}
  },
  {
   "cell_type": "code",
   "execution_count": null,
   "source": [
    "# bulk insert to azure sql database"
   ],
   "outputs": [],
   "metadata": {}
  }
 ],
 "metadata": {
  "language_info": {
   "name": "python",
   "version": "3.8.11",
   "mimetype": "text/x-python",
   "codemirror_mode": {
    "name": "ipython",
    "version": 3
   },
   "pygments_lexer": "ipython3",
   "nbconvert_exporter": "python",
   "file_extension": ".py"
  },
  "kernelspec": {
   "name": "python3",
   "display_name": "Python 3.8.11 64-bit ('bulk-insert': conda)"
  },
  "interpreter": {
   "hash": "b554040ff49d8bcdd1c39e29a67202287275b365be042f6e65721c591a82640c"
  }
 },
 "nbformat": 4,
 "nbformat_minor": 5
}